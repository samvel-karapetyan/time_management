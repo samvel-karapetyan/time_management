{
 "cells": [
  {
   "cell_type": "markdown",
   "metadata": {},
   "source": [
    "### 1. Inheritance (Ժառանգականություն)\n",
    "\n",
    "Ժառանգականությունը (Inheritance) օբյեկտ-կողմնորոշված ծրագրավորման (OOP) հիմնական սկզբունքներից մեկն է, որը թույլ է տալիս մեկ կլասի (ծնող) հատկություններն ու մեթոդները փոխանցել մեկ այլ կլասի (ժառանգ):\n",
    "\n"
   ]
  },
  {
   "cell_type": "code",
   "execution_count": null,
   "metadata": {},
   "outputs": [],
   "source": [
    "# Ծնող կլաս\n",
    "class Animal:\n",
    "    def __init__(self, name):\n",
    "        self.name = name\n",
    "\n",
    "    def make_sound(self):\n",
    "        return \"Some sound\"\n",
    "\n",
    "# Ենթակլաս (ժառանգ)\n",
    "class Dog(Animal):\n",
    "    def make_sound(self):\n",
    "        return \"Bark\"\n",
    "\n",
    "dog = Dog(\"Buddy\")\n",
    "print(dog.name)\n",
    "print(dog.make_sound())"
   ]
  },
  {
   "cell_type": "markdown",
   "metadata": {
    "vscode": {
     "languageId": "plaintext"
    }
   },
   "source": [
    "### 2. Polymorphism (Պոլիմորֆիզմ)\n",
    "\n",
    "Պոլիմորֆիզմը (Polymorphism) օբյեկտ-կողմնորոշված ծրագրավորման (OOP) հիմնական սկզբունքներից է, որը թույլ է տալիս տարբեր դասերի օբյեկտներին օգտագործել նույն մեթոդը՝ տարբեր իրականացումներով (implementation)։"
   ]
  },
  {
   "cell_type": "code",
   "execution_count": null,
   "metadata": {},
   "outputs": [],
   "source": [
    "class Animal:\n",
    "    def make_sound(self):\n",
    "        pass  # Բազային կլասի մեթոդ (դատարկ)\n",
    "\n",
    "class Dog(Animal):\n",
    "    def make_sound(self):\n",
    "        return \"Bark\"\n",
    "\n",
    "class Cat(Animal):\n",
    "    def make_sound(self):\n",
    "        return \"Meow\"\n",
    "\n",
    "animals = [Dog(), Cat()]\n",
    "\n",
    "for animal in animals:\n",
    "    print(animal.make_sound())  "
   ]
  },
  {
   "cell_type": "markdown",
   "metadata": {
    "vscode": {
     "languageId": "plaintext"
    }
   },
   "source": [
    "### 3. Abstraction** (Աբստրակցիա)\n",
    "\n",
    "Աբստրակցիան օբյեկտ-կողմնորոշված ծրագրավորման (OOP) սկզբունքներից է, որը թույլ է տալիս թաքցնել բարդությունները և տրամադրել միայն անհրաժեշտ տեղեկատվությունը։ Այն իրականացվում է աբստրակտ կլասների և աբստրակտ մեթոդների միջոցով, որոնք սահմանվում են, բայց չունեն կոնկրետ իրականացում։"
   ]
  },
  {
   "cell_type": "code",
   "execution_count": null,
   "metadata": {},
   "outputs": [],
   "source": [
    "from abc import ABC, abstractmethod\n",
    "\n",
    "# Աբստրակտ կլաս\n",
    "class Animal(ABC):\n",
    "    def __init__(self, name):\n",
    "        self.name = name\n",
    "\n",
    "    @abstractmethod\n",
    "    def make_sound(self):\n",
    "        pass  # Պետք է իրականացվի ենթակլասներում\n",
    "\n",
    "# Ենթակլասներ\n",
    "class Dog(Animal):\n",
    "    def make_sound(self):\n",
    "        return \"Bark\"\n",
    "\n",
    "class Cat(Animal):\n",
    "    def make_sound(self):\n",
    "        return \"Meow\"\n",
    "\n",
    "dog = Dog(\"Buddy\")\n",
    "cat = Cat(\"Whiskers\")\n",
    "\n",
    "print(dog.name, \"says\", dog.make_sound())\n",
    "print(cat.name, \"says\", cat.make_sound())"
   ]
  },
  {
   "cell_type": "markdown",
   "metadata": {
    "vscode": {
     "languageId": "plaintext"
    }
   },
   "source": [
    "### 4. Encapsulation (Ինկապսուլացիա)\n",
    "\n",
    "Ինկապսուլացիան օբյեկտ-կողմնորոշված ծրագրավորման (OOP) սկզբունքներից է, որը թույլ է տալիս տվյալներն ու մեթոդները թաքցնել արտաքին միջավայրից և սահմանել մուտքի վերահսկողություն։\n",
    "\n",
    "Python-ում ինկապսուլացիան իրականացվում է՝\n",
    "\n",
    "- `public` (`name`)՝ հասանելի է ամենուր\n",
    "- `protected` (`_name`)՝ մատչելի է միայն ենթակլասներում\n",
    "- `private` (`__name`)՝ թաքնված է արտաքին մուտքից\n"
   ]
  },
  {
   "cell_type": "code",
   "execution_count": null,
   "metadata": {},
   "outputs": [],
   "source": [
    "class BankAccount:\n",
    "    def __init__(self, owner, balance):\n",
    "        self.owner = owner       # Հանրային փոփոխական\n",
    "        self.__balance = balance # Մասնավոր փոփոխական\n",
    "\n",
    "    def deposit(self, amount):\n",
    "        self.__balance += amount\n",
    "        return f\"Deposited {amount}, New Balance: {self.__balance}\"\n",
    "\n",
    "    def withdraw(self, amount):\n",
    "        if amount <= self.__balance:\n",
    "            self.__balance -= amount\n",
    "            return f\"Withdrawn {amount}, Remaining Balance: {self.__balance}\"\n",
    "        return \"Insufficient funds!\"\n",
    "\n",
    "    def get_balance(self):  # Մեթոդ՝ մասնավոր փոփոխականը ստանալու համար\n",
    "        return self.__balance\n",
    "\n",
    "account = BankAccount(\"Alice\", 1000)\n",
    "\n",
    "print(account.owner)  # Output: Alice\n",
    "print(account.get_balance())  # Output: 1000\n",
    "\n",
    "# Թաքնված դաշտը հասանելի չի\n",
    "# print(account.__balance)  # AttributeError\n",
    "\n",
    "# Սակայն այն դեռ կարելի է հասանելի դարձնել (չպետք է օգտագործվի)\n",
    "# print(account._BankAccount__balance)  # Output: 1000"
   ]
  }
 ],
 "metadata": {
  "kernelspec": {
   "display_name": "Python 3",
   "language": "python",
   "name": "python3"
  },
  "language_info": {
   "name": "python",
   "version": "3.13.1"
  }
 },
 "nbformat": 4,
 "nbformat_minor": 2
}
