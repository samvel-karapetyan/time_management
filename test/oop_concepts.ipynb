{
 "cells": [
  {
   "cell_type": "markdown",
   "metadata": {},
   "source": [
    "### 1. Inheritance (Ժառանգականություն)\n",
    "\n",
    "Ժառանգականությունը (Inheritance) օբյեկտ-կողմնորոշված ծրագրավորման (OOP) հիմնական սկզբունքներից մեկն է, որը թույլ է տալիս մեկ կլասի (ծնող) հատկություններն ու մեթոդները փոխանցել մեկ այլ կլասի (ժառանգ):\n",
    "\n",
    "Task - 12.10.2020 - ..."
   ]
  },
  {
   "cell_type": "code",
   "execution_count": 1,
   "metadata": {},
   "outputs": [
    {
     "name": "stdout",
     "output_type": "stream",
     "text": [
      "Buddy\n",
      "Bark\n"
     ]
    }
   ],
   "source": [
    "# Ծնող կլաս\n",
    "class Animal:\n",
    "    def __init__(self, name):\n",
    "        self.name = name\n",
    "\n",
    "    def make_sound(self):\n",
    "        return \"Some sound\"\n",
    "\n",
    "# Ենթակլաս (ժառանգ)\n",
    "class Dog(Animal):\n",
    "    def make_sound(self):\n",
    "        return \"Bark\"\n",
    "\n",
    "dog = Dog(\"Buddy\")\n",
    "print(dog.name)\n",
    "print(dog.make_sound())"
   ]
  },
  {
   "cell_type": "markdown",
   "metadata": {
    "vscode": {
     "languageId": "plaintext"
    }
   },
   "source": [
    "### 2. Polymorphism (Պոլիմորֆիզմ)\n",
    "\n",
    "Պոլիմորֆիզմը (Polymorphism) օբյեկտ-կողմնորոշված ծրագրավորման (OOP) հիմնական սկզբունքներից է, որը թույլ է տալիս տարբեր դասերի օբյեկտներին օգտագործել նույն մեթոդը՝ տարբեր իրականացումներով (implementation)։"
   ]
  },
  {
   "cell_type": "code",
   "execution_count": 2,
   "metadata": {},
   "outputs": [
    {
     "name": "stdout",
     "output_type": "stream",
     "text": [
      "Bark\n",
      "Meow\n"
     ]
    }
   ],
   "source": [
    "class Animal:\n",
    "    def make_sound(self):\n",
    "        pass  # Բազային կլասի մեթոդ (դատարկ)\n",
    "\n",
    "class Dog(Animal):\n",
    "    def make_sound(self):\n",
    "        return \"Bark\"\n",
    "\n",
    "class Cat(Animal):\n",
    "    def make_sound(self):\n",
    "        return \"Meow\"\n",
    "\n",
    "animals = [Dog(), Cat()]\n",
    "\n",
    "for animal in animals:\n",
    "    print(animal.make_sound())  "
   ]
  },
  {
   "cell_type": "markdown",
   "metadata": {
    "vscode": {
     "languageId": "plaintext"
    }
   },
   "source": [
    "### 3. Abstraction** (Աբստրակցիա)\n",
    "\n",
    "Աբստրակցիան օբյեկտ-կողմնորոշված ծրագրավորման (OOP) սկզբունքներից է, որը թույլ է տալիս թաքցնել բարդությունները և տրամադրել միայն անհրաժեշտ տեղեկատվությունը։ Այն իրականացվում է աբստրակտ կլասների և աբստրակտ մեթոդների միջոցով, որոնք սահմանվում են, բայց չունեն կոնկրետ իրականացում։"
   ]
  },
  {
   "cell_type": "code",
   "execution_count": 24,
   "metadata": {},
   "outputs": [
    {
     "name": "stdout",
     "output_type": "stream",
     "text": [
      "Buddy says Bark\n",
      "Whiskers says Meow\n"
     ]
    }
   ],
   "source": [
    "from abc import ABC, abstractmethod\n",
    "\n",
    "# Աբստրակտ կլաս\n",
    "class Animal(ABC):\n",
    "    def __init__(self, name):\n",
    "        self.name = name\n",
    "\n",
    "    @abstractmethod\n",
    "    def make_sound(self):\n",
    "        pass  # Պետք է իրականացվի ենթակլասներում\n",
    "    \n",
    "\n",
    "# Ենթակլասներ\n",
    "class Dog(Animal):\n",
    "    def make_sound(self):\n",
    "        return \"Bark\"\n",
    "\n",
    "class Cat(Animal):\n",
    "    def make_sound(self):\n",
    "        return \"Meow\"\n",
    "\n",
    "dog = Dog(\"Buddy\")\n",
    "cat = Cat(\"Whiskers\")\n",
    "\n",
    "print(dog.name, \"says\", dog.make_sound())\n",
    "print(cat.name, \"says\", cat.make_sound())"
   ]
  },
  {
   "cell_type": "markdown",
   "metadata": {
    "vscode": {
     "languageId": "plaintext"
    }
   },
   "source": [
    "### 4. Encapsulation (Ինկապսուլացիա)\n",
    "\n",
    "Ինկապսուլացիան օբյեկտ-կողմնորոշված ծրագրավորման (OOP) սկզբունքներից է, որը թույլ է տալիս տվյալներն ու մեթոդները թաքցնել արտաքին միջավայրից և սահմանել մուտքի վերահսկողություն։\n",
    "\n",
    "Python-ում ինկապսուլացիան իրականացվում է՝\n",
    "\n",
    "- `public` (`name`)՝ հասանելի է ամենուր\n",
    "- `protected` (`_name`)՝ մատչելի է միայն ենթակլասներում\n",
    "- `private` (`__name`)՝ թաքնված է արտաքին մուտքից\n"
   ]
  },
  {
   "cell_type": "code",
   "execution_count": 8,
   "metadata": {},
   "outputs": [
    {
     "name": "stdout",
     "output_type": "stream",
     "text": [
      "Alice\n",
      "1000\n"
     ]
    }
   ],
   "source": [
    "# balance_value = 2\n",
    "# _balance_value\n",
    "# __balance_value\n",
    "\n",
    "class BankAccount:\n",
    "    def __init__(self, owner, balance):\n",
    "        self.owner = owner       # Հանրային փոփոխական\n",
    "        self.__balance = balance # Մասնավոր փոփոխական\n",
    "\n",
    "    def deposit(self, amount):\n",
    "        self.__balance += amount\n",
    "        return f\"Deposited {amount}, New Balance: {self.__balance}\"\n",
    "\n",
    "    def withdraw(self, amount):\n",
    "        if amount <= self.__balance:\n",
    "            self.__balance -= amount\n",
    "            return f\"Withdrawn {amount}, Remaining Balance: {self.__balance}\"\n",
    "        return \"Insufficient funds!\"\n",
    "\n",
    "    def get_balance(self):  # Մեթոդ՝ մասնավոր փոփոխականը ստանալու համար\n",
    "        return self.__balance\n",
    "\n",
    "account = BankAccount(\"Alice\", 1000)\n",
    "\n",
    "print(account.owner)  # Output: Alice\n",
    "print(account.get_balance())  # Output: 1000\n",
    "\n",
    "# Թաքնված դաշտը հասանելի չի\n",
    "# print(account.__balance)  # AttributeError\n",
    "\n",
    "# Սակայն այն դեռ կարելի է հասանելի դարձնել (չպետք է օգտագործվի)\n",
    "# print(account._BankAccount__balance)  # Output: 1000"
   ]
  },
  {
   "cell_type": "code",
   "execution_count": 15,
   "metadata": {},
   "outputs": [
    {
     "name": "stdout",
     "output_type": "stream",
     "text": [
      "A\n"
     ]
    }
   ],
   "source": [
    "class A:\n",
    "    def __a(self):\n",
    "        print(\"A\")\n",
    "         # _*class_name* + *method/variable name*"
   ]
  },
  {
   "cell_type": "code",
   "execution_count": 12,
   "metadata": {},
   "outputs": [
    {
     "data": {
      "text/plain": [
       "10"
      ]
     },
     "execution_count": 12,
     "metadata": {},
     "output_type": "execute_result"
    }
   ],
   "source": [
    "account._BankAccount__balance = 10\n",
    "account.get_balance()"
   ]
  },
  {
   "cell_type": "code",
   "execution_count": 13,
   "metadata": {},
   "outputs": [
    {
     "data": {
      "text/plain": [
       "['_BankAccount__balance',\n",
       " '__class__',\n",
       " '__delattr__',\n",
       " '__dict__',\n",
       " '__dir__',\n",
       " '__doc__',\n",
       " '__eq__',\n",
       " '__firstlineno__',\n",
       " '__format__',\n",
       " '__ge__',\n",
       " '__getattribute__',\n",
       " '__getstate__',\n",
       " '__gt__',\n",
       " '__hash__',\n",
       " '__init__',\n",
       " '__init_subclass__',\n",
       " '__le__',\n",
       " '__lt__',\n",
       " '__module__',\n",
       " '__ne__',\n",
       " '__new__',\n",
       " '__reduce__',\n",
       " '__reduce_ex__',\n",
       " '__repr__',\n",
       " '__setattr__',\n",
       " '__sizeof__',\n",
       " '__static_attributes__',\n",
       " '__str__',\n",
       " '__subclasshook__',\n",
       " '__weakref__',\n",
       " 'deposit',\n",
       " 'get_balance',\n",
       " 'owner',\n",
       " 'withdraw']"
      ]
     },
     "execution_count": 13,
     "metadata": {},
     "output_type": "execute_result"
    }
   ],
   "source": [
    "dir(account)"
   ]
  }
 ],
 "metadata": {
  "kernelspec": {
   "display_name": "Python 3",
   "language": "python",
   "name": "python3"
  },
  "language_info": {
   "codemirror_mode": {
    "name": "ipython",
    "version": 3
   },
   "file_extension": ".py",
   "mimetype": "text/x-python",
   "name": "python",
   "nbconvert_exporter": "python",
   "pygments_lexer": "ipython3",
   "version": "3.13.1"
  }
 },
 "nbformat": 4,
 "nbformat_minor": 2
}
